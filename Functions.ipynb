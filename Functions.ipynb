{
 "cells": [
  {
   "cell_type": "code",
   "execution_count": 2,
   "id": "dd8b2670",
   "metadata": {},
   "outputs": [
    {
     "name": "stdout",
     "output_type": "stream",
     "text": [
      "I am a function\n"
     ]
    }
   ],
   "source": [
    "#Function is a block of code which only runs when it is executed\n",
    "def myfun():\n",
    "    print(\"I am a function\")\n",
    "myfun()"
   ]
  },
  {
   "cell_type": "code",
   "execution_count": 4,
   "id": "e04bd288",
   "metadata": {
    "scrolled": true
   },
   "outputs": [
    {
     "name": "stdout",
     "output_type": "stream",
     "text": [
      "My name is Kushagra and my age is 20\n"
     ]
    }
   ],
   "source": [
    "def myfun(name,age):\n",
    "    print(f\"My name is {name} and my age is {age}\")\n",
    "myfun(\"Kushagra\",20)"
   ]
  },
  {
   "cell_type": "code",
   "execution_count": 4,
   "id": "35c1752e",
   "metadata": {},
   "outputs": [
    {
     "name": "stdout",
     "output_type": "stream",
     "text": [
      "My name is Priyansh\n"
     ]
    }
   ],
   "source": [
    "#Arbitary Arguments\n",
    "#multiple arguments can be passed at the same time\n",
    "def myfun(*name):\n",
    "    print(f\"My name is {name[3]}\")\n",
    "myfun(\"Kushagra\",'Abhi','Anchit','Priyansh')"
   ]
  },
  {
   "cell_type": "code",
   "execution_count": 6,
   "id": "64b5c7ef",
   "metadata": {},
   "outputs": [
    {
     "name": "stdout",
     "output_type": "stream",
     "text": [
      "my name is Kushagra\n",
      "my name is Abhi\n"
     ]
    }
   ],
   "source": [
    "#default parameter\n",
    "def myfun(name=\"Abhi\"):\n",
    "    print(f\"my name is {name}\")\n",
    "myfun(\"Kushagra\") #here we pass \"kushagra\" as a argument\n",
    "myfun() #here it is a default parameter "
   ]
  },
  {
   "cell_type": "code",
   "execution_count": 22,
   "id": "7eff5683",
   "metadata": {},
   "outputs": [
    {
     "name": "stdout",
     "output_type": "stream",
     "text": [
      "Kushagra \n",
      "DIVINE-AI\n",
      "Kushagra\n",
      "DIVINE-AI\n"
     ]
    }
   ],
   "source": [
    "#printing sets list and tuples\n",
    "\n",
    "#1.) tuple\n",
    "def myfun(Name):\n",
    "    for i in Name:\n",
    "        print(i)\n",
    "name=(\"Kushagra \",\"DIVINE-AI\")\n",
    "myfun(name)\n",
    "\n",
    "#2.) sets\n",
    "def myfunn(Sets):\n",
    "    for i in Sets:\n",
    "        print(i)\n",
    "naam={\"Kushagra\",\"DIVINE-AI\"}\n",
    "myfunn(naam)\n",
    "\n",
    "#3.) d\n"
   ]
  },
  {
   "cell_type": "code",
   "execution_count": 26,
   "id": "69a6d16e",
   "metadata": {},
   "outputs": [
    {
     "name": "stdout",
     "output_type": "stream",
     "text": [
      "81\n",
      "6241\n"
     ]
    }
   ],
   "source": [
    "#returning value\n",
    "def fun(x):\n",
    "    return x*x\n",
    "print(fun(9))\n",
    "print(fun(79))"
   ]
  }
 ],
 "metadata": {
  "kernelspec": {
   "display_name": "Python 3",
   "language": "python",
   "name": "python3"
  },
  "language_info": {
   "codemirror_mode": {
    "name": "ipython",
    "version": 3
   },
   "file_extension": ".py",
   "mimetype": "text/x-python",
   "name": "python",
   "nbconvert_exporter": "python",
   "pygments_lexer": "ipython3",
   "version": "3.8.8"
  }
 },
 "nbformat": 4,
 "nbformat_minor": 5
}
