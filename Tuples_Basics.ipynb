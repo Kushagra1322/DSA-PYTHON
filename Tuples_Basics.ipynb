{
 "cells": [
  {
   "cell_type": "code",
   "execution_count": 3,
   "id": "e68213d7",
   "metadata": {},
   "outputs": [
    {
     "name": "stdout",
     "output_type": "stream",
     "text": [
      "(2, 4, 45.76, 'hello', 'Kushagra')\n",
      "<class 'tuple'>\n"
     ]
    }
   ],
   "source": [
    "t1=(2,4,45.76,\"hello\",\"Kushagra\")\n",
    "print(t1)\n",
    "print(type(t1))"
   ]
  },
  {
   "cell_type": "code",
   "execution_count": 11,
   "id": "4f43b37d",
   "metadata": {},
   "outputs": [
    {
     "name": "stdout",
     "output_type": "stream",
     "text": [
      "<class 'list'>\n",
      "[2, 4, 45.76, 'hello', 'Srivastav']\n",
      "[2, 4, 45.76, 'hello']\n",
      "[2, 4, 45.76, 'hello', 'Kushagra']\n",
      "[2, 4, 45.76, 'hello', 'Srivastav', 'Kushagra']\n"
     ]
    }
   ],
   "source": [
    "#how to append items in tuples \n",
    "#however we cannot directly append items in tuples but we can append the items by conerting that tuples into its corresponding list\n",
    "l1=list(t1)\n",
    "print(type(l1))\n",
    "l1[4]=\"Srivastav\"\n",
    "print(l1)\n",
    "l1.remove(\"Srivastav\")\n",
    "print(l1)\n",
    "l1.append(\"Kushagra\")\n",
    "print(l1)\n",
    "l1.insert(4,\"Srivastav\")\n",
    "print(l1)\n"
   ]
  },
  {
   "cell_type": "code",
   "execution_count": 14,
   "id": "8d451351",
   "metadata": {
    "scrolled": true
   },
   "outputs": [
    {
     "name": "stdout",
     "output_type": "stream",
     "text": [
      "<class 'tuple'>\n",
      "(2, 4, 45.76, 'hello', 'Srivastav', 'Kushagra')\n"
     ]
    }
   ],
   "source": [
    "t1=tuple(l1)\n",
    "print(type(t1))\n",
    "print(t1)\n"
   ]
  },
  {
   "cell_type": "code",
   "execution_count": 15,
   "id": "0e257f46",
   "metadata": {},
   "outputs": [
    {
     "name": "stdout",
     "output_type": "stream",
     "text": [
      "(2, 4, 45.76, 'hello', 'Srivastav', 'Kushagra', 23, 45, 47, 98, 'Google', 'Divine-Ai')\n"
     ]
    }
   ],
   "source": [
    "#merging is same as of list\n",
    "t2=(23,45,47,98,\"Google\",\"Divine-Ai\")\n",
    "t3=t1+t2\n",
    "print(t3)"
   ]
  }
 ],
 "metadata": {
  "kernelspec": {
   "display_name": "Python 3",
   "language": "python",
   "name": "python3"
  },
  "language_info": {
   "codemirror_mode": {
    "name": "ipython",
    "version": 3
   },
   "file_extension": ".py",
   "mimetype": "text/x-python",
   "name": "python",
   "nbconvert_exporter": "python",
   "pygments_lexer": "ipython3",
   "version": "3.8.10"
  }
 },
 "nbformat": 4,
 "nbformat_minor": 5
}
