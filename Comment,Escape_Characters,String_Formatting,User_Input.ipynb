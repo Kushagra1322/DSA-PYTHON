{
 "cells": [
  {
   "cell_type": "code",
   "execution_count": 1,
   "id": "1f62b477",
   "metadata": {},
   "outputs": [
    {
     "data": {
      "text/plain": [
       "'\\njfjdkfdfnkdfmkndfkdf\\n\\n'"
      ]
     },
     "execution_count": 1,
     "metadata": {},
     "output_type": "execute_result"
    }
   ],
   "source": [
    "#how to comment\n",
    "'''\n",
    "jfjdkfdfnkdfmkndfkdf\n",
    "\n",
    "'''\n"
   ]
  },
  {
   "cell_type": "code",
   "execution_count": 2,
   "id": "4765e90a",
   "metadata": {},
   "outputs": [
    {
     "name": "stdout",
     "output_type": "stream",
     "text": [
      "my name is kushagra \n",
      " I am from Lucknow\n",
      "my name is kushagra \t and I am from Lucknow\n",
      "my name is kushagra\b and I am from Lucknow\n"
     ]
    }
   ],
   "source": [
    "#Escape Squence\n",
    "#\\n->new line\n",
    "#\\t->five spaces\n",
    "#\\b->remove the last character behind it\n",
    "print(\"my name is kushagra \\n I am from Lucknow\")\n",
    "print(\"my name is kushagra \\t and I am from Lucknow\")\n",
    "print(\"my name is kushagra\\b and I am from Lucknow\")"
   ]
  },
  {
   "cell_type": "code",
   "execution_count": 2,
   "id": "bf425282",
   "metadata": {},
   "outputs": [
    {
     "name": "stdout",
     "output_type": "stream",
     "text": [
      "My name is Kushagra & my age is 20\n",
      "My name is Kushagra & my age is 20\n",
      "My name is Kushagra & my age is 20\n"
     ]
    }
   ],
   "source": [
    "#String Formatting\n",
    "#3 ways to print the input\n",
    "#1.\n",
    "name=\"Kushagra\"\n",
    "age=20\n",
    "print(\"My name is {} & my age is {}\".format(name,age))\n",
    "#2.\n",
    "print(f\"My name is {name} & my age is {age}\")\n",
    "#3.\n",
    "print(\"My name is\",name,\"& my age is\",age)\n"
   ]
  },
  {
   "cell_type": "code",
   "execution_count": 19,
   "id": "75966ea6",
   "metadata": {},
   "outputs": [
    {
     "name": "stdout",
     "output_type": "stream",
     "text": [
      "Enter number  :34\n",
      "34\n",
      "<class 'str'>\n",
      "Enter number :34\n",
      "34\n",
      "<class 'int'>\n",
      "Enter number :33\n",
      "33.0\n",
      "<class 'float'>\n"
     ]
    }
   ],
   "source": [
    "#user input\n",
    "x=input(\"Enter number  :\")\n",
    "print(x)\n",
    "print(type(x))\n",
    "'''\n",
    "note that all the input are treated as String by default so we to change the the by the conversion \n",
    "'''\n",
    "y=int(input(\"Enter number :\"))\n",
    "print(y)\n",
    "print(type(y))\n",
    "\n",
    "z=float(input(\"Enter number :\"))\n",
    "print(z)\n",
    "print(type(z))"
   ]
  },
  {
   "cell_type": "code",
   "execution_count": 28,
   "id": "37827841",
   "metadata": {},
   "outputs": [
    {
     "name": "stdout",
     "output_type": "stream",
     "text": [
      "enter num45 67\n",
      "45.0 67.0\n",
      "<class 'float'> 67.0\n"
     ]
    }
   ],
   "source": [
    "#multiple user input\n",
    "x,y=map(float,input(\"enter num\").split())\n",
    "print(x,y)\n",
    "print(type(x),y)"
   ]
  },
  {
   "cell_type": "code",
   "execution_count": 33,
   "id": "d739f14d",
   "metadata": {
    "scrolled": true
   },
   "outputs": [
    {
     "name": "stdout",
     "output_type": "stream",
     "text": [
      "enter num 56 54\n",
      "56 54\n",
      "<class 'int'> 54\n"
     ]
    }
   ],
   "source": [
    "p,q=map(int,input(\"enter num\").split())\n",
    "print(p,q)\n",
    "print(type(p),q)"
   ]
  },
  {
   "cell_type": "code",
   "execution_count": 12,
   "id": "c7616be8",
   "metadata": {},
   "outputs": [
    {
     "name": "stdout",
     "output_type": "stream",
     "text": [
      "enter name Rana\n",
      "enter surname betichod\n",
      "{'fname': 'Rana', 'sname': 'betichod'}\n"
     ]
    }
   ],
   "source": [
    "a=input(\"enter name \")\n",
    "b=input(\"enter surname \")\n",
    "rana={\n",
    "    \"fname\":a,\n",
    "    \"sname\":b\n",
    "}\n",
    "print(rana)\n"
   ]
  }
 ],
 "metadata": {
  "kernelspec": {
   "display_name": "Python 3",
   "language": "python",
   "name": "python3"
  },
  "language_info": {
   "codemirror_mode": {
    "name": "ipython",
    "version": 3
   },
   "file_extension": ".py",
   "mimetype": "text/x-python",
   "name": "python",
   "nbconvert_exporter": "python",
   "pygments_lexer": "ipython3",
   "version": "3.8.8"
  }
 },
 "nbformat": 4,
 "nbformat_minor": 5
}
