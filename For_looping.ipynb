{
 "cells": [
  {
   "cell_type": "code",
   "execution_count": 3,
   "id": "409a9dca",
   "metadata": {},
   "outputs": [
    {
     "name": "stdout",
     "output_type": "stream",
     "text": [
      "Kushagra\n",
      "Srivastav\n",
      "13\n",
      "4\n",
      "2001\n"
     ]
    }
   ],
   "source": [
    "#loop\n",
    "#for loop\n",
    "num=[\"Kushagra\",\"Srivastav\",13,4,2001]\n",
    "for i in num:\n",
    "    print(i)"
   ]
  },
  {
   "cell_type": "code",
   "execution_count": 1,
   "id": "c5e38f3c",
   "metadata": {},
   "outputs": [
    {
     "name": "stdout",
     "output_type": "stream",
     "text": [
      "0\n",
      "1\n",
      "2\n",
      "3\n",
      "4\n",
      "5\n",
      "6\n",
      "7\n",
      "8\n",
      "9\n",
      "10\n"
     ]
    }
   ],
   "source": [
    "#Range function\n",
    "for i in range(11):\n",
    "    print(i)"
   ]
  },
  {
   "cell_type": "code",
   "execution_count": 10,
   "id": "6ddee252",
   "metadata": {},
   "outputs": [
    {
     "name": "stdout",
     "output_type": "stream",
     "text": [
      "0\n",
      "1\n",
      "2\n",
      "3\n",
      "4\n"
     ]
    }
   ],
   "source": [
    "#for loop\n",
    "#break\n",
    "for i in range(11):\n",
    "    if(i==5):\n",
    "        break\n",
    "    print(i)\n"
   ]
  },
  {
   "cell_type": "code",
   "execution_count": 11,
   "id": "0465098e",
   "metadata": {},
   "outputs": [
    {
     "name": "stdout",
     "output_type": "stream",
     "text": [
      "0\n",
      "1\n",
      "2\n",
      "3\n",
      "4\n",
      "5\n",
      "6\n",
      "7\n",
      "8\n",
      "9\n",
      "10\n",
      "11\n"
     ]
    }
   ],
   "source": [
    "#continue\n",
    "for j in range(12):\n",
    "    if i==4:\n",
    "        continue\n",
    "    print(j)"
   ]
  },
  {
   "cell_type": "code",
   "execution_count": 12,
   "id": "e7b815e8",
   "metadata": {},
   "outputs": [
    {
     "name": "stdout",
     "output_type": "stream",
     "text": [
      "Kushagra Srivastav\n",
      "Kushagra Chitransh\n",
      "Kushagra Soni\n",
      "Priyansh Srivastav\n",
      "Priyansh Chitransh\n",
      "Priyansh Soni\n",
      "Anchit Srivastav\n",
      "Anchit Chitransh\n",
      "Anchit Soni\n"
     ]
    }
   ],
   "source": [
    "#nested loop\n",
    "name=[\"Kushagra\",\"Priyansh\",\"Anchit\"]\n",
    "sirname=[\"Srivastav\",\"Chitransh\",\"Soni\"]\n",
    "for i in name:\n",
    "    for j in sirname:\n",
    "        print(i,j)\n"
   ]
  },
  {
   "cell_type": "code",
   "execution_count": 3,
   "id": "b4b1f87c",
   "metadata": {},
   "outputs": [
    {
     "name": "stdout",
     "output_type": "stream",
     "text": [
      "Enter size :4\n",
      "2\n",
      "3\n",
      "4\n",
      "5\n",
      "[2, 3, 4, 5]\n"
     ]
    }
   ],
   "source": [
    "#how to input elements in a list through a loop \n",
    "list1=[]\n",
    "n=int(input(\"Enter size :\"))\n",
    "for i in range (0,n):\n",
    "    add=int(input())\n",
    "    list1.append(add)\n",
    "print(list1)"
   ]
  }
 ],
 "metadata": {
  "kernelspec": {
   "display_name": "Python 3",
   "language": "python",
   "name": "python3"
  },
  "language_info": {
   "codemirror_mode": {
    "name": "ipython",
    "version": 3
   },
   "file_extension": ".py",
   "mimetype": "text/x-python",
   "name": "python",
   "nbconvert_exporter": "python",
   "pygments_lexer": "ipython3",
   "version": "3.8.8"
  }
 },
 "nbformat": 4,
 "nbformat_minor": 5
}
