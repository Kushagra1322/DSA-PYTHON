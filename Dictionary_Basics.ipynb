{
 "cells": [
  {
   "cell_type": "code",
   "execution_count": 4,
   "id": "eaa21051",
   "metadata": {},
   "outputs": [
    {
     "name": "stdout",
     "output_type": "stream",
     "text": [
      "{'name': 'Kushagra Srivastav', 'roll number': 1929095, 'branch': 'Computer Science', 'year': 2020}\n",
      "Kushagra Srivastav\n",
      "Kushagra Srivastav\n"
     ]
    }
   ],
   "source": [
    "#Dictionary\n",
    "d={\n",
    "    # key:value\n",
    "    \"name\":\"Kushagra Srivastav\",\n",
    "    \"roll number\":1929095,\n",
    "    \"branch\":\"Computer Science\",\n",
    "    \"year\":2020\n",
    "}\n",
    "print(d)\n",
    "\n",
    "\n",
    "#ways to acces the value inside dict\n",
    "print(d[\"name\"])\n",
    "#or\n",
    "print(d.get(\"name\"))"
   ]
  },
  {
   "cell_type": "code",
   "execution_count": 9,
   "id": "2e3cfed4",
   "metadata": {},
   "outputs": [
    {
     "name": "stdout",
     "output_type": "stream",
     "text": [
      "{'name': 'Kushagra Srivastav', 'roll number': 1929095, 'branch': 'Computer Science', 'year': 2020}\n",
      "dict_keys(['name', 'roll number', 'branch', 'year'])\n",
      "dict_values(['Kushagra Srivastav', 1929095, 'Computer Science', 2020])\n",
      "dict_items([('name', 'Kushagra Srivastav'), ('roll number', 1929095), ('branch', 'Computer Science'), ('year', 2020)])\n"
     ]
    }
   ],
   "source": [
    "#how to print keys and values seperate\n",
    "print(d)\n",
    "print(d.keys())\n",
    "print(d.values())\n",
    "print(d.items())"
   ]
  },
  {
   "cell_type": "code",
   "execution_count": 11,
   "id": "727c4a5a",
   "metadata": {},
   "outputs": [
    {
     "name": "stdout",
     "output_type": "stream",
     "text": [
      "{'name': 'Kushagra Srivastav', 'roll number': 1929095, 'branch': 'Computer Science', 'year': 2023}\n",
      "{'name': 'Abhi Srivastav', 'roll number': 1929095, 'branch': 'Computer Science', 'year': 2023}\n"
     ]
    }
   ],
   "source": [
    "#how to change the data in a dict\n",
    "d[\"year\"]=2023\n",
    "print(d)\n",
    "\n",
    "#or by update method\n",
    "d.update({\"name\":\"Abhi Srivastav\"})\n",
    "print(d)"
   ]
  },
  {
   "cell_type": "code",
   "execution_count": 13,
   "id": "db4cd699",
   "metadata": {
    "scrolled": true
   },
   "outputs": [
    {
     "name": "stdout",
     "output_type": "stream",
     "text": [
      "{'name': 'Abhi Srivastav', 'roll number': 1929095, 'branch': 'Computer Science', 'year': 2023, 'year1': '2030', 'year2': '2030'}\n"
     ]
    }
   ],
   "source": [
    "#add the data\n",
    "d.update({\"year2\":\"2030\"})\n",
    "print(d)"
   ]
  },
  {
   "cell_type": "code",
   "execution_count": 19,
   "id": "5cf1db75",
   "metadata": {},
   "outputs": [
    {
     "name": "stdout",
     "output_type": "stream",
     "text": [
      "{'name': 'Abhi Srivastav', 'roll number': 1929095, 'branch': 'Computer Science', 'year': 2023}\n"
     ]
    }
   ],
   "source": [
    "#remove data(1)\n",
    "del d[\"year2\"]\n",
    "print(d)"
   ]
  },
  {
   "cell_type": "code",
   "execution_count": 20,
   "id": "453594e6",
   "metadata": {},
   "outputs": [
    {
     "name": "stdout",
     "output_type": "stream",
     "text": [
      "{'name': 'Abhi Srivastav', 'roll number': 1929095, 'year': 2023}\n"
     ]
    }
   ],
   "source": [
    "#remove data(2)\n",
    "d.pop(\"branch\")"
   ]
  },
  {
   "cell_type": "code",
   "execution_count": 21,
   "id": "fbc63228",
   "metadata": {},
   "outputs": [
    {
     "name": "stdout",
     "output_type": "stream",
     "text": [
      "{'name': 'Abhi Srivastav', 'roll number': 1929095}\n"
     ]
    }
   ],
   "source": [
    "#remove data(3)\n",
    "#popitem()\n",
    "#this removes the last data in a dict\n",
    "d.popitem()\n",
    "print(d)"
   ]
  },
  {
   "cell_type": "code",
   "execution_count": 22,
   "id": "ab2b38b1",
   "metadata": {},
   "outputs": [
    {
     "name": "stdout",
     "output_type": "stream",
     "text": [
      "{'name': 'Abhi Srivastav', 'roll number': 1929095, 'branch': 'Coumputer Science', 'year': 2023}\n"
     ]
    }
   ],
   "source": [
    "d.update({\"branch\":\"Coumputer Science\"})\n",
    "d.update({\"year\":2023})\n",
    "print(d)"
   ]
  },
  {
   "cell_type": "code",
   "execution_count": 24,
   "id": "15ea1e0c",
   "metadata": {},
   "outputs": [
    {
     "name": "stdout",
     "output_type": "stream",
     "text": [
      "{'dict1': {'name1': 'Ashutosh', 'year1': 20, 'branch1': 'LAW'}, 'dict2': {'name2': 'Priya', 'year2': 21, 'branch2': 'Mechanical'}, 'dict3': {'name3': 'Riddhi', 'year3': 22, 'branch3': 'Chemmical'}}\n"
     ]
    }
   ],
   "source": [
    "#nested dictionary\n",
    "d1={\n",
    "    \"name1\":\"Ashutosh\",\n",
    "    \"year1\":20,\n",
    "    \"branch1\":\"LAW\"\n",
    "}\n",
    "d2={\n",
    "    \"name2\":\"Priya\",\n",
    "    \"year2\":21,\n",
    "    \"branch2\":\"Mechanical\"\n",
    "}\n",
    "d3={\n",
    "    \"name3\":\"Riddhi\",\n",
    "    \"year3\":22,\n",
    "    \"branch3\":\"Chemmical\"\n",
    "}\n",
    "finaldict={\n",
    "    \"dict1\":d1,\n",
    "    \"dict2\":d2,\n",
    "    \"dict3\":d3\n",
    "    \n",
    "}\n",
    "print(finaldict)"
   ]
  }
 ],
 "metadata": {
  "kernelspec": {
   "display_name": "Python 3",
   "language": "python",
   "name": "python3"
  },
  "language_info": {
   "codemirror_mode": {
    "name": "ipython",
    "version": 3
   },
   "file_extension": ".py",
   "mimetype": "text/x-python",
   "name": "python",
   "nbconvert_exporter": "python",
   "pygments_lexer": "ipython3",
   "version": "3.8.10"
  }
 },
 "nbformat": 4,
 "nbformat_minor": 5
}
