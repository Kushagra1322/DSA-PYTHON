{
 "cells": [
  {
   "cell_type": "code",
   "execution_count": 9,
   "id": "6373a82c",
   "metadata": {},
   "outputs": [
    {
     "name": "stdout",
     "output_type": "stream",
     "text": [
      "I am the fourth method\n",
      "I am the third method\n",
      "I am the second method\n",
      "I am the first method\n"
     ]
    }
   ],
   "source": [
    "def firstmethod():\n",
    "    secondmethod()\n",
    "    print(\"I am the first method\")\n",
    "def secondmethod():\n",
    "    thirdmethod()\n",
    "    print(\"I am the second method\")\n",
    "def thirdmethod():\n",
    "    fourthmethod()\n",
    "    print(\"I am the third method\")\n",
    "def fourthmethod():\n",
    "    print(\"I am the fourth method\")\n",
    "firstmethod()\n",
    "\n"
   ]
  },
  {
   "cell_type": "code",
   "execution_count": 10,
   "id": "25f855ee",
   "metadata": {},
   "outputs": [
    {
     "name": "stdout",
     "output_type": "stream",
     "text": [
      "enter number :10\n",
      "n is less than 1\n",
      "1\n",
      "2\n",
      "3\n",
      "4\n",
      "5\n",
      "6\n",
      "7\n",
      "8\n",
      "9\n",
      "10\n"
     ]
    }
   ],
   "source": [
    "#how recursion works in stack memory\n",
    "n=int(input(\"enter number :\"))\n",
    "def recursiveMethod(n):\n",
    "    if n<1:\n",
    "        print(\"n is less than 1\")\n",
    "    else:\n",
    "        recursiveMethod(n-1)\n",
    "        print(n)\n",
    "recursiveMethod(n)\n"
   ]
  },
  {
   "cell_type": "code",
   "execution_count": 4,
   "id": "945998c4",
   "metadata": {},
   "outputs": [
    {
     "name": "stdout",
     "output_type": "stream",
     "text": [
      "enter the number :5\n",
      "120\n"
     ]
    }
   ],
   "source": [
    "#factorial using recursion\n",
    "def factorial(n):\n",
    "    assert n>=0 and int(n)==n,'the number must be positive integer only'\n",
    "    if n in [0,1]:\n",
    "        return 1\n",
    "    else:\n",
    "        return n*factorial(n-1)\n",
    "x=int(input(\"enter the number :\"))\n",
    "print(factorial(x))"
   ]
  },
  {
   "cell_type": "code",
   "execution_count": 13,
   "id": "13ad71a0",
   "metadata": {},
   "outputs": [
    {
     "name": "stdout",
     "output_type": "stream",
     "text": [
      "enter the number :5\n",
      "120\n"
     ]
    }
   ],
   "source": [
    "#factorial using loop\n",
    "x=int(input(\"enter the number :\"))\n",
    "factorial=1\n",
    "if x>=0:\n",
    "    for i in range(1,x+1):\n",
    "        factorial=i*factorial\n",
    "else:\n",
    "    print(\"the number must be positive integer only\")\n",
    "print(factorial)    "
   ]
  },
  {
   "cell_type": "code",
   "execution_count": 4,
   "id": "fccc5d2f",
   "metadata": {},
   "outputs": [
    {
     "name": "stdout",
     "output_type": "stream",
     "text": [
      "enter the number :7\n",
      "13\n"
     ]
    }
   ],
   "source": [
    "#fibonacci sequence using recursion\n",
    "def fibonacci(n):\n",
    "    assert n>=0 and int(n)==n,'the number must be positive'\n",
    "    if n in [0,1]:\n",
    "        return n\n",
    "    else:\n",
    "        return fibonacci(n-1)+fibonacci(n-2)\n",
    "x=int(input(\"enter the number :\"))\n",
    "print(fibonacci(x))\n",
    "    "
   ]
  },
  {
   "cell_type": "code",
   "execution_count": 30,
   "id": "4798ee70",
   "metadata": {},
   "outputs": [
    {
     "name": "stdout",
     "output_type": "stream",
     "text": [
      "Enter the Number :999\n",
      "27\n"
     ]
    }
   ],
   "source": [
    "#find sum of digits of a positive integer number using recursion\n",
    "def SumOfDigits(n):\n",
    "    assert n>=0 and int(n)==n,'the number must be positive'\n",
    "    if n==0:\n",
    "        return 0\n",
    "    else:\n",
    "        return ((n%10)+SumOfDigits(n//10))\n",
    "x=int(input(\"Enter the Number :\"))\n",
    "print(SumOfDigits(x))\n",
    "\n",
    "    "
   ]
  },
  {
   "cell_type": "code",
   "execution_count": 35,
   "id": "2045cfc3",
   "metadata": {},
   "outputs": [
    {
     "name": "stdout",
     "output_type": "stream",
     "text": [
      "Enter the Base :56\n",
      "Enter the power2\n",
      "3136\n"
     ]
    }
   ],
   "source": [
    "#find power of a number using recursion\n",
    "def power(b,e):\n",
    "    assert e>=0 and int(e)==e,'the power must be positive integer'\n",
    "    if(e==1):\n",
    "        return b\n",
    "    if(e==0):\n",
    "        return 1\n",
    "    else:\n",
    "        return (b*power(b,e-1))\n",
    "x=int(input(\"Enter the Base :\"))\n",
    "y=int(input(\"Enter the power\"))\n",
    "print(power(x,y))\n"
   ]
  },
  {
   "cell_type": "code",
   "execution_count": 6,
   "id": "4e4514f2",
   "metadata": {},
   "outputs": [
    {
     "name": "stdout",
     "output_type": "stream",
     "text": [
      "Enter the 1st number :48\n",
      "Enter the 2nd number :18\n",
      "6\n"
     ]
    }
   ],
   "source": [
    "#finding greatest common divisor of 2 number\n",
    "def gcd(a,b):\n",
    "    assert a>=0 and b>=0 and int(a)==a and int(b)==b,\"both the number must be positive\"\n",
    "    if (a%b==0):\n",
    "        return b\n",
    "    else:\n",
    "        return gcd(b,a%b)\n",
    "x=int(input(\"Enter the 1st number :\"))\n",
    "y=int(input(\"Enter the 2nd number :\"))\n",
    "print(gcd(x,y))"
   ]
  },
  {
   "cell_type": "code",
   "execution_count": 20,
   "id": "58d8100f",
   "metadata": {},
   "outputs": [
    {
     "name": "stdout",
     "output_type": "stream",
     "text": [
      "Enter the number :10\n",
      "1010\n"
     ]
    }
   ],
   "source": [
    "#convert number from decimal to binary\n",
    "def DecToBin(a):\n",
    "    assert int(a)==a,\"the parameter must be integer only !\"\n",
    "    if (a==0):\n",
    "        return a\n",
    "    else:\n",
    "        return ((a%2)+(10*DecToBin(a//2)))\n",
    "x=int(input(\"Enter the number :\"))\n",
    "print(DecToBin(x))\n"
   ]
  },
  {
   "cell_type": "code",
   "execution_count": null,
   "id": "9fa76c89",
   "metadata": {},
   "outputs": [],
   "source": []
  }
 ],
 "metadata": {
  "kernelspec": {
   "display_name": "Python 3",
   "language": "python",
   "name": "python3"
  },
  "language_info": {
   "codemirror_mode": {
    "name": "ipython",
    "version": 3
   },
   "file_extension": ".py",
   "mimetype": "text/x-python",
   "name": "python",
   "nbconvert_exporter": "python",
   "pygments_lexer": "ipython3",
   "version": "3.8.10"
  }
 },
 "nbformat": 4,
 "nbformat_minor": 5
}
