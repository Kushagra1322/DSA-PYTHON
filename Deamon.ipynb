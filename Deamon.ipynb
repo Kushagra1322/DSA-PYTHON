{
 "cells": [
  {
   "cell_type": "code",
   "execution_count": 1,
   "id": "5e839c00",
   "metadata": {},
   "outputs": [
    {
     "name": "stdout",
     "output_type": "stream",
     "text": [
      "  _________\n",
      "| Hi Deamon |\n",
      "  =========\n",
      "                 \\\n",
      "                  \\\n",
      "                   \\\n",
      "                    \\\n",
      "                     /- _  `-/  '\n",
      "                    (/\\/ \\ \\   /\\\n",
      "                    / /   | `    \\\n",
      "                    O O   ) /    |\n",
      "                    `-^--'`<     '\n",
      "                   (_.)  _  )   /\n",
      "                    `.___/`    /\n",
      "                      `-----' /\n",
      "         <----.     __ / __   \\\n",
      "         <----|====O)))==) \\) /====\n",
      "         <----'    `--' `.__,' \\\n",
      "                      |        |\n",
      "                       \\       /\n",
      "                 ______( (_  / \\______\n",
      "               ,'  ,-----'   |        \\\n",
      "               `--{__________)        \\/\n"
     ]
    }
   ],
   "source": [
    "import cowsay\n",
    "cowsay.daemon(\"Hi Deamon\")\n"
   ]
  }
 ],
 "metadata": {
  "kernelspec": {
   "display_name": "Python 3",
   "language": "python",
   "name": "python3"
  },
  "language_info": {
   "codemirror_mode": {
    "name": "ipython",
    "version": 3
   },
   "file_extension": ".py",
   "mimetype": "text/x-python",
   "name": "python",
   "nbconvert_exporter": "python",
   "pygments_lexer": "ipython3",
   "version": "3.8.10"
  }
 },
 "nbformat": 4,
 "nbformat_minor": 5
}
