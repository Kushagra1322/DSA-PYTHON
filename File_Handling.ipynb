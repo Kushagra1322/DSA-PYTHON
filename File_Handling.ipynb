{
 "cells": [
  {
   "cell_type": "code",
   "execution_count": null,
   "id": "e10861b9",
   "metadata": {},
   "outputs": [],
   "source": [
    "#file handling\n",
    "'''\n",
    ".txt=text file\n",
    ".py=python file\n",
    ".xls=excel file\n",
    ".csv=csv file\n",
    " \n",
    "Operation on file are called as file handling\n",
    "\n",
    "#syntax\n",
    "open('file_path','mode')\n",
    "\n",
    "Different modes\n",
    "x-create\n",
    "r-read\n",
    "a-append\n",
    "w-write\n",
    "r+ -read/write\n",
    "'''\n"
   ]
  },
  {
   "cell_type": "code",
   "execution_count": 1,
   "id": "f8233377",
   "metadata": {},
   "outputs": [],
   "source": [
    "#create file\n",
    "variable=open('demo.txt','x')\n",
    "# if a file is already created then it will show an error otherwise it will br created"
   ]
  },
  {
   "cell_type": "code",
   "execution_count": 5,
   "id": "a825b4f1",
   "metadata": {},
   "outputs": [
    {
     "name": "stdout",
     "output_type": "stream",
     "text": [
      "\"Greetinngs\"\n"
     ]
    }
   ],
   "source": [
    "#read file\n",
    "variable=open('demo.txt','r')\n",
    "print(variable.read())"
   ]
  },
  {
   "cell_type": "code",
   "execution_count": 15,
   "id": "eee083a2",
   "metadata": {},
   "outputs": [
    {
     "name": "stdout",
     "output_type": "stream",
     "text": [
      "\"Greetinngs\"\n",
      " My name is Kushagra Srivasyav\n",
      " My name is Kushagra Srivasyav\n",
      " My name is Kushagra Srivasyav\n",
      " My name is Kushagra Srivasyav\n",
      " My name is Kushagra Srivasyav\n",
      " My name is Kushagra Srivastav\n",
      " My name is Kushagra Srivastav\n",
      " My name is Kushagra Srivastav\n"
     ]
    }
   ],
   "source": [
    "#append\n",
    "variable=open('demo.txt','a')\n",
    "variable.write('\\n My name is Kushagra Srivastav')\n",
    "variable.close()\n",
    "variable=open('demo.txt','r')\n",
    "print(variable.read())\n",
    "\n",
    "#here in this case if we haven't created a file prior to this append function then it will create it first"
   ]
  },
  {
   "cell_type": "code",
   "execution_count": 3,
   "id": "96281805",
   "metadata": {},
   "outputs": [],
   "source": [
    "#write\n",
    "f1=open('demo13.txt','w')\n",
    "f1.write(\"Birthday:13 April\")\n",
    "f1.close()\n",
    "\n",
    "#alternate method to write \n",
    "with open('demo22.txt','w') as f2:\n",
    "    f2.write(\"nothing to write over here\")\n",
    "#no need to write close()here \n"
   ]
  },
  {
   "cell_type": "code",
   "execution_count": 5,
   "id": "cd9f194d",
   "metadata": {},
   "outputs": [],
   "source": [
    "#read/write\n",
    "f1=open('demo13.txt','r+')\n",
    "f1.write(\"overwrite has taken place \")\n",
    "f1.close()"
   ]
  }
 ],
 "metadata": {
  "kernelspec": {
   "display_name": "Python 3",
   "language": "python",
   "name": "python3"
  },
  "language_info": {
   "codemirror_mode": {
    "name": "ipython",
    "version": 3
   },
   "file_extension": ".py",
   "mimetype": "text/x-python",
   "name": "python",
   "nbconvert_exporter": "python",
   "pygments_lexer": "ipython3",
   "version": "3.8.10"
  }
 },
 "nbformat": 4,
 "nbformat_minor": 5
}
