{
 "cells": [
  {
   "cell_type": "code",
   "execution_count": 2,
   "id": "f3cf938e",
   "metadata": {},
   "outputs": [
    {
     "name": "stdout",
     "output_type": "stream",
     "text": [
      "Both are Equal\n"
     ]
    }
   ],
   "source": [
    "#conditional statements\n",
    "a=13\n",
    "b=13\n",
    "if a>b:\n",
    "    print(\"A is bigger than B\")\n",
    "elif b>a:\n",
    "    print(\"B is bigger than A\")\n",
    "else:\n",
    "    print(\"Both are Equal\")"
   ]
  },
  {
   "cell_type": "code",
   "execution_count": 3,
   "id": "a7272594",
   "metadata": {},
   "outputs": [
    {
     "name": "stdout",
     "output_type": "stream",
     "text": [
      "A is smaller than B\n"
     ]
    }
   ],
   "source": [
    "#shorthand\n",
    "a=10\n",
    "b=13\n",
    "print(\"A is smaller than B\") if a<b else print(\"B is smaller than A\")"
   ]
  },
  {
   "cell_type": "code",
   "execution_count": 4,
   "id": "5bc15b36",
   "metadata": {},
   "outputs": [
    {
     "name": "stdout",
     "output_type": "stream",
     "text": [
      "all conditions are true\n"
     ]
    }
   ],
   "source": [
    "#logical operations\n",
    "a,b,c=12,11,10\n",
    "if a>b and b>c and a>c:\n",
    "    print(\"all conditions are true\")\n",
    "else:\n",
    "    print(\"Wrong conditions\")"
   ]
  },
  {
   "cell_type": "code",
   "execution_count": 5,
   "id": "6e102b2a",
   "metadata": {},
   "outputs": [
    {
     "name": "stdout",
     "output_type": "stream",
     "text": [
      "Wrong conditions\n"
     ]
    }
   ],
   "source": [
    "#here one of the conditons is false so overall statements under if would not be executed\n",
    "a,b,c=12,11,10\n",
    "if a>b and b>c and a<c:\n",
    "    print(\"all conditions are true\")\n",
    "else:\n",
    "    print(\"Wrong conditions\")"
   ]
  },
  {
   "cell_type": "code",
   "execution_count": 6,
   "id": "d60c39ae",
   "metadata": {},
   "outputs": [
    {
     "name": "stdout",
     "output_type": "stream",
     "text": [
      "number is positive\n"
     ]
    }
   ],
   "source": [
    "#nested if\n",
    "num=12\n",
    "if num>=0:\n",
    "    if num==0:\n",
    "        print(\"number is zero\")\n",
    "    else:\n",
    "        print(\"number is positive\")\n",
    "else:\n",
    "    print(\"number is negative\")"
   ]
  }
 ],
 "metadata": {
  "kernelspec": {
   "display_name": "Python 3",
   "language": "python",
   "name": "python3"
  },
  "language_info": {
   "codemirror_mode": {
    "name": "ipython",
    "version": 3
   },
   "file_extension": ".py",
   "mimetype": "text/x-python",
   "name": "python",
   "nbconvert_exporter": "python",
   "pygments_lexer": "ipython3",
   "version": "3.8.10"
  }
 },
 "nbformat": 4,
 "nbformat_minor": 5
}
